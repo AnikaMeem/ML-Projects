{
 "cells": [
  {
   "cell_type": "code",
   "execution_count": 1,
   "metadata": {},
   "outputs": [],
   "source": [
    "%config Completer.use_jedi = False"
   ]
  },
  {
   "cell_type": "code",
   "execution_count": 2,
   "metadata": {},
   "outputs": [],
   "source": [
    "import tensorflow as tf\n",
    "import numpy as np\n",
    "import matplotlib.pyplot as plt "
   ]
  },
  {
   "cell_type": "code",
   "execution_count": 3,
   "metadata": {},
   "outputs": [],
   "source": [
    "from keras.preprocessing.image import ImageDataGenerator"
   ]
  },
  {
   "cell_type": "code",
   "execution_count": 4,
   "metadata": {},
   "outputs": [],
   "source": [
    "trainDataGen = ImageDataGenerator(\n",
    "    rescale = 1./255,\n",
    "    shear_range = .2,\n",
    "    zoom_range = .3,\n",
    "    horizontal_flip = True\n",
    ")"
   ]
  },
  {
   "cell_type": "code",
   "execution_count": 5,
   "metadata": {},
   "outputs": [],
   "source": [
    "test_dir = \"./Dataset-2/test\"\n",
    "train_dir = \"./Dataset-2/train\""
   ]
  },
  {
   "cell_type": "code",
   "execution_count": 6,
   "metadata": {},
   "outputs": [
    {
     "name": "stdout",
     "output_type": "stream",
     "text": [
      "Found 2714 images belonging to 2 classes.\n"
     ]
    }
   ],
   "source": [
    "trainset = trainDataGen.flow_from_directory(\n",
    "    train_dir,\n",
    "    target_size = (64,64),\n",
    "    batch_size = 32,\n",
    "    class_mode = \"binary\"\n",
    ")"
   ]
  },
  {
   "cell_type": "code",
   "execution_count": 7,
   "metadata": {},
   "outputs": [],
   "source": [
    "testDataGen = ImageDataGenerator(\n",
    "    rescale = 1./255\n",
    ")"
   ]
  },
  {
   "cell_type": "code",
   "execution_count": 8,
   "metadata": {},
   "outputs": [
    {
     "name": "stdout",
     "output_type": "stream",
     "text": [
      "Found 286 images belonging to 2 classes.\n"
     ]
    }
   ],
   "source": [
    "testset = testDataGen.flow_from_directory(\n",
    "    test_dir,\n",
    "    target_size = (64,64),\n",
    "    batch_size = 32,\n",
    "    class_mode=\"binary\"\n",
    ")"
   ]
  },
  {
   "cell_type": "code",
   "execution_count": 9,
   "metadata": {},
   "outputs": [],
   "source": [
    "from keras.models import Sequential"
   ]
  },
  {
   "cell_type": "code",
   "execution_count": 10,
   "metadata": {},
   "outputs": [],
   "source": [
    "cnn = Sequential()"
   ]
  },
  {
   "cell_type": "code",
   "execution_count": 11,
   "metadata": {},
   "outputs": [],
   "source": [
    "from keras.layers import Conv2D,Dense,MaxPool2D,Flatten,Dropout"
   ]
  },
  {
   "cell_type": "code",
   "execution_count": 12,
   "metadata": {},
   "outputs": [],
   "source": [
    "cnn.add(Conv2D(filters=32,kernel_size=3,activation=\"relu\",input_shape=(64,64,3)))"
   ]
  },
  {
   "cell_type": "code",
   "execution_count": 13,
   "metadata": {},
   "outputs": [],
   "source": [
    "cnn.add(MaxPool2D(pool_size=2,strides=2))\n",
    "cnn.add(Dropout(.2))"
   ]
  },
  {
   "cell_type": "code",
   "execution_count": 14,
   "metadata": {},
   "outputs": [],
   "source": [
    "cnn.add(Conv2D(filters=32,kernel_size=3,activation=\"relu\"))"
   ]
  },
  {
   "cell_type": "code",
   "execution_count": 15,
   "metadata": {},
   "outputs": [],
   "source": [
    "cnn.add(MaxPool2D(pool_size=2,strides=2))\n",
    "cnn.add(Dropout(.2))"
   ]
  },
  {
   "cell_type": "code",
   "execution_count": 16,
   "metadata": {},
   "outputs": [],
   "source": [
    "cnn.add(Flatten())"
   ]
  },
  {
   "cell_type": "code",
   "execution_count": 17,
   "metadata": {},
   "outputs": [],
   "source": [
    "cnn.add(Dense(units=128,activation=\"relu\"))\n",
    "cnn.add(Dropout(.2))\n",
    "cnn.add(Dense(units=64,activation=\"relu\"))\n",
    "cnn.add(Dropout(.2))\n",
    "cnn.add(Dense(units=32,activation=\"relu\"))\n",
    "cnn.add(Dropout(.2))"
   ]
  },
  {
   "cell_type": "code",
   "execution_count": 18,
   "metadata": {},
   "outputs": [],
   "source": [
    "cnn.add(Dense(units=1,activation=\"sigmoid\"))"
   ]
  },
  {
   "cell_type": "code",
   "execution_count": 19,
   "metadata": {},
   "outputs": [],
   "source": [
    "cnn.compile(optimizer=\"adam\",loss=\"binary_crossentropy\",metrics=[\"accuracy\"])"
   ]
  },
  {
   "cell_type": "code",
   "execution_count": 20,
   "metadata": {
    "scrolled": true
   },
   "outputs": [
    {
     "name": "stdout",
     "output_type": "stream",
     "text": [
      "Model: \"sequential\"\n",
      "_________________________________________________________________\n",
      "Layer (type)                 Output Shape              Param #   \n",
      "=================================================================\n",
      "conv2d (Conv2D)              (None, 62, 62, 32)        896       \n",
      "_________________________________________________________________\n",
      "max_pooling2d (MaxPooling2D) (None, 31, 31, 32)        0         \n",
      "_________________________________________________________________\n",
      "dropout (Dropout)            (None, 31, 31, 32)        0         \n",
      "_________________________________________________________________\n",
      "conv2d_1 (Conv2D)            (None, 29, 29, 32)        9248      \n",
      "_________________________________________________________________\n",
      "max_pooling2d_1 (MaxPooling2 (None, 14, 14, 32)        0         \n",
      "_________________________________________________________________\n",
      "dropout_1 (Dropout)          (None, 14, 14, 32)        0         \n",
      "_________________________________________________________________\n",
      "flatten (Flatten)            (None, 6272)              0         \n",
      "_________________________________________________________________\n",
      "dense (Dense)                (None, 128)               802944    \n",
      "_________________________________________________________________\n",
      "dropout_2 (Dropout)          (None, 128)               0         \n",
      "_________________________________________________________________\n",
      "dense_1 (Dense)              (None, 64)                8256      \n",
      "_________________________________________________________________\n",
      "dropout_3 (Dropout)          (None, 64)                0         \n",
      "_________________________________________________________________\n",
      "dense_2 (Dense)              (None, 32)                2080      \n",
      "_________________________________________________________________\n",
      "dropout_4 (Dropout)          (None, 32)                0         \n",
      "_________________________________________________________________\n",
      "dense_3 (Dense)              (None, 1)                 33        \n",
      "=================================================================\n",
      "Total params: 823,457\n",
      "Trainable params: 823,457\n",
      "Non-trainable params: 0\n",
      "_________________________________________________________________\n"
     ]
    }
   ],
   "source": [
    "cnn.summary()"
   ]
  },
  {
   "cell_type": "code",
   "execution_count": 21,
   "metadata": {
    "scrolled": true
   },
   "outputs": [
    {
     "name": "stdout",
     "output_type": "stream",
     "text": [
      "Epoch 1/60\n",
      "85/85 [==============================] - 12s 138ms/step - loss: 0.6578 - accuracy: 0.6231 - val_loss: 0.5303 - val_accuracy: 0.7692\n",
      "Epoch 2/60\n",
      "85/85 [==============================] - 9s 108ms/step - loss: 0.6062 - accuracy: 0.6780 - val_loss: 0.5091 - val_accuracy: 0.7762\n",
      "Epoch 3/60\n",
      "85/85 [==============================] - 9s 111ms/step - loss: 0.5258 - accuracy: 0.7432 - val_loss: 0.5154 - val_accuracy: 0.7273\n",
      "Epoch 4/60\n",
      "85/85 [==============================] - 10s 115ms/step - loss: 0.5079 - accuracy: 0.7631 - val_loss: 0.4995 - val_accuracy: 0.7622\n",
      "Epoch 5/60\n",
      "85/85 [==============================] - 9s 110ms/step - loss: 0.4817 - accuracy: 0.7859 - val_loss: 0.4125 - val_accuracy: 0.8287\n",
      "Epoch 6/60\n",
      "85/85 [==============================] - 9s 112ms/step - loss: 0.4508 - accuracy: 0.7973 - val_loss: 0.4215 - val_accuracy: 0.8322\n",
      "Epoch 7/60\n",
      "85/85 [==============================] - 9s 112ms/step - loss: 0.4438 - accuracy: 0.7988 - val_loss: 0.4881 - val_accuracy: 0.7797\n",
      "Epoch 8/60\n",
      "85/85 [==============================] - 13s 149ms/step - loss: 0.4327 - accuracy: 0.8077 - val_loss: 0.4573 - val_accuracy: 0.8182\n",
      "Epoch 9/60\n",
      "85/85 [==============================] - 14s 161ms/step - loss: 0.4061 - accuracy: 0.8290 - val_loss: 0.3994 - val_accuracy: 0.8357\n",
      "Epoch 10/60\n",
      "85/85 [==============================] - 11s 129ms/step - loss: 0.3830 - accuracy: 0.8342 - val_loss: 0.4145 - val_accuracy: 0.8112\n",
      "Epoch 11/60\n",
      "85/85 [==============================] - 10s 115ms/step - loss: 0.3573 - accuracy: 0.8552 - val_loss: 0.4524 - val_accuracy: 0.7972\n",
      "Epoch 12/60\n",
      "85/85 [==============================] - 11s 126ms/step - loss: 0.3670 - accuracy: 0.8467 - val_loss: 0.3530 - val_accuracy: 0.8531\n",
      "Epoch 13/60\n",
      "85/85 [==============================] - 10s 115ms/step - loss: 0.3504 - accuracy: 0.8493 - val_loss: 0.5289 - val_accuracy: 0.7797\n",
      "Epoch 14/60\n",
      "85/85 [==============================] - 11s 125ms/step - loss: 0.3296 - accuracy: 0.8666 - val_loss: 0.3660 - val_accuracy: 0.8462\n",
      "Epoch 15/60\n",
      "85/85 [==============================] - 9s 110ms/step - loss: 0.3180 - accuracy: 0.8699 - val_loss: 0.3392 - val_accuracy: 0.8531\n",
      "Epoch 16/60\n",
      "85/85 [==============================] - 10s 120ms/step - loss: 0.2974 - accuracy: 0.8791 - val_loss: 0.3313 - val_accuracy: 0.8531\n",
      "Epoch 17/60\n",
      "85/85 [==============================] - 9s 110ms/step - loss: 0.2679 - accuracy: 0.8994 - val_loss: 0.2584 - val_accuracy: 0.8846\n",
      "Epoch 18/60\n",
      "85/85 [==============================] - 10s 112ms/step - loss: 0.2557 - accuracy: 0.8950 - val_loss: 0.2806 - val_accuracy: 0.8916\n",
      "Epoch 19/60\n",
      "85/85 [==============================] - 10s 115ms/step - loss: 0.2423 - accuracy: 0.9068 - val_loss: 0.3524 - val_accuracy: 0.8951\n",
      "Epoch 20/60\n",
      "85/85 [==============================] - 10s 113ms/step - loss: 0.2272 - accuracy: 0.9130 - val_loss: 0.2576 - val_accuracy: 0.8986\n",
      "Epoch 21/60\n",
      "85/85 [==============================] - 9s 111ms/step - loss: 0.2075 - accuracy: 0.9241 - val_loss: 0.2541 - val_accuracy: 0.9161\n",
      "Epoch 22/60\n",
      "85/85 [==============================] - 10s 114ms/step - loss: 0.2039 - accuracy: 0.9204 - val_loss: 0.2304 - val_accuracy: 0.9196\n",
      "Epoch 23/60\n",
      "85/85 [==============================] - 10s 118ms/step - loss: 0.2019 - accuracy: 0.9189 - val_loss: 0.2141 - val_accuracy: 0.9091\n",
      "Epoch 24/60\n",
      "85/85 [==============================] - 10s 121ms/step - loss: 0.1809 - accuracy: 0.9322 - val_loss: 0.2749 - val_accuracy: 0.9056\n",
      "Epoch 25/60\n",
      "85/85 [==============================] - 10s 113ms/step - loss: 0.1771 - accuracy: 0.9326 - val_loss: 0.1862 - val_accuracy: 0.9231\n",
      "Epoch 26/60\n",
      "85/85 [==============================] - 9s 109ms/step - loss: 0.1597 - accuracy: 0.9403 - val_loss: 0.2670 - val_accuracy: 0.9056\n",
      "Epoch 27/60\n",
      "85/85 [==============================] - 10s 115ms/step - loss: 0.1495 - accuracy: 0.9447 - val_loss: 0.3416 - val_accuracy: 0.8916\n",
      "Epoch 28/60\n",
      "85/85 [==============================] - 10s 112ms/step - loss: 0.1557 - accuracy: 0.9410 - val_loss: 0.1740 - val_accuracy: 0.9371\n",
      "Epoch 29/60\n",
      "85/85 [==============================] - 11s 124ms/step - loss: 0.1416 - accuracy: 0.9514 - val_loss: 0.1301 - val_accuracy: 0.9476\n",
      "Epoch 30/60\n",
      "85/85 [==============================] - 9s 111ms/step - loss: 0.1385 - accuracy: 0.9506 - val_loss: 0.1112 - val_accuracy: 0.9476\n",
      "Epoch 31/60\n",
      "85/85 [==============================] - 10s 114ms/step - loss: 0.1302 - accuracy: 0.9514 - val_loss: 0.1184 - val_accuracy: 0.9510\n",
      "Epoch 32/60\n",
      "85/85 [==============================] - 11s 133ms/step - loss: 0.1420 - accuracy: 0.9458 - val_loss: 0.1419 - val_accuracy: 0.9406\n",
      "Epoch 33/60\n",
      "85/85 [==============================] - 10s 113ms/step - loss: 0.1194 - accuracy: 0.9584 - val_loss: 0.1997 - val_accuracy: 0.9406\n",
      "Epoch 34/60\n",
      "85/85 [==============================] - 10s 119ms/step - loss: 0.1073 - accuracy: 0.9639 - val_loss: 0.1326 - val_accuracy: 0.9441\n",
      "Epoch 35/60\n",
      "85/85 [==============================] - 12s 140ms/step - loss: 0.1084 - accuracy: 0.9606 - val_loss: 0.1234 - val_accuracy: 0.9406\n",
      "Epoch 36/60\n",
      "85/85 [==============================] - 16s 182ms/step - loss: 0.1296 - accuracy: 0.9584 - val_loss: 0.1509 - val_accuracy: 0.9510\n",
      "Epoch 37/60\n",
      "85/85 [==============================] - 9s 112ms/step - loss: 0.1039 - accuracy: 0.9650 - val_loss: 0.1258 - val_accuracy: 0.9406\n",
      "Epoch 38/60\n",
      "85/85 [==============================] - 12s 136ms/step - loss: 0.1144 - accuracy: 0.9606 - val_loss: 0.1129 - val_accuracy: 0.9545\n",
      "Epoch 39/60\n",
      "85/85 [==============================] - 11s 134ms/step - loss: 0.1000 - accuracy: 0.9661 - val_loss: 0.1670 - val_accuracy: 0.9371\n",
      "Epoch 40/60\n",
      "85/85 [==============================] - 11s 133ms/step - loss: 0.1153 - accuracy: 0.9587 - val_loss: 0.1212 - val_accuracy: 0.9545\n",
      "Epoch 41/60\n",
      "85/85 [==============================] - 12s 144ms/step - loss: 0.0904 - accuracy: 0.9679 - val_loss: 0.1113 - val_accuracy: 0.9755\n",
      "Epoch 42/60\n",
      "85/85 [==============================] - 12s 146ms/step - loss: 0.1122 - accuracy: 0.9617 - val_loss: 0.1012 - val_accuracy: 0.9685\n",
      "Epoch 43/60\n",
      "85/85 [==============================] - 13s 154ms/step - loss: 0.0876 - accuracy: 0.9683 - val_loss: 0.1395 - val_accuracy: 0.9406\n",
      "Epoch 44/60\n",
      "85/85 [==============================] - 13s 152ms/step - loss: 0.0779 - accuracy: 0.9735 - val_loss: 0.0980 - val_accuracy: 0.9685\n",
      "Epoch 45/60\n",
      "85/85 [==============================] - 12s 136ms/step - loss: 0.0819 - accuracy: 0.9705 - val_loss: 0.1421 - val_accuracy: 0.9545\n",
      "Epoch 46/60\n",
      "85/85 [==============================] - 12s 143ms/step - loss: 0.0866 - accuracy: 0.9679 - val_loss: 0.1065 - val_accuracy: 0.9685\n",
      "Epoch 47/60\n",
      "85/85 [==============================] - 11s 130ms/step - loss: 0.0880 - accuracy: 0.9705 - val_loss: 0.1275 - val_accuracy: 0.9510\n",
      "Epoch 48/60\n",
      "85/85 [==============================] - 11s 132ms/step - loss: 0.0753 - accuracy: 0.9727 - val_loss: 0.1170 - val_accuracy: 0.9580\n",
      "Epoch 49/60\n",
      "85/85 [==============================] - 11s 130ms/step - loss: 0.0791 - accuracy: 0.9698 - val_loss: 0.1482 - val_accuracy: 0.9406\n",
      "Epoch 50/60\n",
      "85/85 [==============================] - 13s 158ms/step - loss: 0.0824 - accuracy: 0.9716 - val_loss: 0.1072 - val_accuracy: 0.9685\n",
      "Epoch 51/60\n",
      "85/85 [==============================] - 12s 142ms/step - loss: 0.0745 - accuracy: 0.9727 - val_loss: 0.0532 - val_accuracy: 0.9720\n",
      "Epoch 52/60\n",
      "85/85 [==============================] - 12s 147ms/step - loss: 0.0753 - accuracy: 0.9735 - val_loss: 0.0512 - val_accuracy: 0.9720\n",
      "Epoch 53/60\n",
      "85/85 [==============================] - 13s 155ms/step - loss: 0.0871 - accuracy: 0.9687 - val_loss: 0.0587 - val_accuracy: 0.9825\n",
      "Epoch 54/60\n",
      "85/85 [==============================] - 12s 136ms/step - loss: 0.0738 - accuracy: 0.9761 - val_loss: 0.0333 - val_accuracy: 0.9860\n",
      "Epoch 55/60\n",
      "85/85 [==============================] - 13s 154ms/step - loss: 0.0615 - accuracy: 0.9794 - val_loss: 0.0369 - val_accuracy: 0.9825\n",
      "Epoch 56/60\n",
      "85/85 [==============================] - 12s 142ms/step - loss: 0.0597 - accuracy: 0.9790 - val_loss: 0.0455 - val_accuracy: 0.9825\n",
      "Epoch 57/60\n",
      "85/85 [==============================] - 12s 145ms/step - loss: 0.0622 - accuracy: 0.9764 - val_loss: 0.0302 - val_accuracy: 0.9755\n",
      "Epoch 58/60\n"
     ]
    },
    {
     "name": "stdout",
     "output_type": "stream",
     "text": [
      "85/85 [==============================] - 12s 141ms/step - loss: 0.0698 - accuracy: 0.9779 - val_loss: 0.0972 - val_accuracy: 0.9510\n",
      "Epoch 59/60\n",
      "85/85 [==============================] - 12s 143ms/step - loss: 0.0719 - accuracy: 0.9746 - val_loss: 0.0540 - val_accuracy: 0.9720\n",
      "Epoch 60/60\n",
      "85/85 [==============================] - 13s 154ms/step - loss: 0.0599 - accuracy: 0.9775 - val_loss: 0.0461 - val_accuracy: 0.9790\n"
     ]
    }
   ],
   "source": [
    "history=cnn.fit(\n",
    "    x=trainset,\n",
    "    validation_data=testset,\n",
    "    epochs = 60\n",
    ")"
   ]
  },
  {
   "cell_type": "code",
   "execution_count": 23,
   "metadata": {},
   "outputs": [
    {
     "data": {
      "image/png": "[encoded data removed]",
      "text/plain": [
       "<Figure size 432x288 with 1 Axes>"
      ]
     },
     "metadata": {
      "needs_background": "light"
     },
     "output_type": "display_data"
    }
   ],
   "source": [
    "plt.plot(history.history['loss'])\n",
    "plt.plot(history.history['val_loss'])\n",
    "plt.title('Model loss')\n",
    "plt.ylabel('Loss')\n",
    "plt.xlabel('Epoch')\n",
    "plt.legend(['Train', 'Valid'], loc='upper left')\n",
    "plt.show()"
   ]
  },
  {
   "cell_type": "code",
   "execution_count": 33,
   "metadata": {},
   "outputs": [
    {
     "data": {
      "image/png": "[encoded data removed]",
      "text/plain": [
       "<Figure size 432x288 with 1 Axes>"
      ]
     },
     "metadata": {
      "needs_background": "light"
     },
     "output_type": "display_data"
    }
   ],
   "source": [
    "plt.plot(history.history['accuracy'])\n",
    "plt.plot(history.history['val_accuracy'])\n",
    "plt.title('Model Accuracy')\n",
    "plt.ylabel('Accuracy')\n",
    "plt.xlabel('Epoch')\n",
    "plt.legend(['Train', 'Valid'], loc='upper left')\n",
    "plt.show()"
   ]
  },
  {
   "cell_type": "code",
   "execution_count": 25,
   "metadata": {},
   "outputs": [
    {
     "data": {
      "text/plain": [
       "{'no': 0, 'yes': 1}"
      ]
     },
     "execution_count": 25,
     "metadata": {},
     "output_type": "execute_result"
    }
   ],
   "source": [
    "trainset.class_indices"
   ]
  },
  {
   "cell_type": "code",
   "execution_count": 26,
   "metadata": {},
   "outputs": [],
   "source": [
    "#cnn.save(\"cse465_cnn.h5\")"
   ]
  },
  {
   "cell_type": "code",
   "execution_count": 27,
   "metadata": {},
   "outputs": [],
   "source": [
    "import numpy as np\n",
    "from keras.preprocessing import image\n",
    "image_test = image.load_img('./Dataset-2/pred/pred0.jpg',target_size=(64,64))"
   ]
  },
  {
   "cell_type": "code",
   "execution_count": 28,
   "metadata": {},
   "outputs": [
    {
     "name": "stdout",
     "output_type": "stream",
     "text": [
      "[[0.00047056]]\n",
      "No\n"
     ]
    }
   ],
   "source": [
    "test_img = image.img_to_array(image_test)\n",
    "test_img = np.expand_dims(test_img,axis=0)\n",
    "result = cnn.predict(test_img/255)\n",
    "print(result)\n",
    "if result > 0.5:\n",
    "    result = \"yes\"\n",
    "else:\n",
    "    result = \"No\"\n",
    "print(result)"
   ]
  },
  {
   "cell_type": "code",
   "execution_count": 29,
   "metadata": {},
   "outputs": [
    {
     "name": "stdout",
     "output_type": "stream",
     "text": [
      "______Healthy Brain Images______\n"
     ]
    },
    {
     "data": {
      "text/plain": [
       "<matplotlib.image.AxesImage at 0x2b49fc60c10>"
      ]
     },
     "execution_count": 29,
     "metadata": {},
     "output_type": "execute_result"
    },
    {
     "data": {
      "image/png": "[encoded data removed]",
      "text/plain": [
       "<Figure size 1440x216 with 1 Axes>"
      ]
     },
     "metadata": {
      "needs_background": "light"
     },
     "output_type": "display_data"
    }
   ],
   "source": [
    "print('______Healthy Brain Images______')\n",
    "plt.figure(figsize=(20,3))\n",
    "plt.imshow(image_test)"
   ]
  },
  {
   "cell_type": "code",
   "execution_count": 30,
   "metadata": {},
   "outputs": [
    {
     "name": "stdout",
     "output_type": "stream",
     "text": [
      "[[0.9999207]]\n",
      "yes\n"
     ]
    }
   ],
   "source": [
    "image_test = image.load_img('./Dataset-2/pred/pred45.jpg',target_size=(64,64))\n",
    "test_img = image.img_to_array(image_test)\n",
    "test_img = np.expand_dims(test_img,axis=0)\n",
    "result = cnn.predict(test_img/255)\n",
    "print(result)\n",
    "if result > 0.5:\n",
    "    result = \"yes\"\n",
    "else:\n",
    "    result = \"No\"\n",
    "print(result)"
   ]
  },
  {
   "cell_type": "code",
   "execution_count": 31,
   "metadata": {
    "scrolled": true
   },
   "outputs": [
    {
     "name": "stdout",
     "output_type": "stream",
     "text": [
      "______Unhealthy Brain Images______\n"
     ]
    },
    {
     "data": {
      "text/plain": [
       "<matplotlib.image.AxesImage at 0x2b49fd55e20>"
      ]
     },
     "execution_count": 31,
     "metadata": {},
     "output_type": "execute_result"
    },
    {
     "data": {
      "image/png": "[encoded data removed]",
      "text/plain": [
       "<Figure size 1440x216 with 1 Axes>"
      ]
     },
     "metadata": {
      "needs_background": "light"
     },
     "output_type": "display_data"
    }
   ],
   "source": [
    "print('______Unhealthy Brain Images______')\n",
    "plt.figure(figsize=(20,3))\n",
    "plt.imshow(image_test)"
   ]
  },
  {
   "cell_type": "code",
   "execution_count": 32,
   "metadata": {},
   "outputs": [
    {
     "name": "stdout",
     "output_type": "stream",
     "text": [
      "[[0.9998584]]\n"
     ]
    }
   ],
   "source": [
    "from keras.models import load_model\n",
    "saved_model = load_model(\"cse465_cnn.h5\")\n",
    "result1 = saved_model.predict(test_img/255)\n",
    "print(result1)"
   ]
  }
 ],
 "metadata": {
  "kernelspec": {
   "display_name": "TF2.3",
   "language": "python",
   "name": "tf_2.3"
  },
  "language_info": {
   "codemirror_mode": {
    "name": "ipython",
    "version": 3
   },
   "file_extension": ".py",
   "mimetype": "text/x-python",
   "name": "python",
   "nbconvert_exporter": "python",
   "pygments_lexer": "ipython3",
   "version": "3.8.0"
  }
 },
 "nbformat": 4,
 "nbformat_minor": 4
}
