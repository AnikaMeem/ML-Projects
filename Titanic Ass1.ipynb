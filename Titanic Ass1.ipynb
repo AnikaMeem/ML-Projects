{
  "nbformat": 4,
  "nbformat_minor": 0,
  "metadata": {
    "colab": {
      "name": "assignment.ipynb",
      "provenance": [],
      "collapsed_sections": []
    },
    "kernelspec": {
      "name": "python3",
      "display_name": "Python 3"
    },
    "accelerator": "GPU"
  },
  "cells": [
    {
      "cell_type": "markdown",
      "metadata": {
        "id": "PYc-iuBTk5_G"
      },
      "source": [
        ""
      ]
    },
    {
      "cell_type": "markdown",
      "metadata": {
        "id": "5dOAvLueESQX"
      },
      "source": [
        "STEP 1: describe the data"
      ]
    },
    {
      "cell_type": "code",
      "metadata": {
        "id": "aw-cv45yk7DX"
      },
      "source": [
        "# description about the project : this machine learning basedprogram predicts if a passenger on the titanic will survive or not .\n",
        "# about the data : data downloded from kaggle website . link :https://www.kaggle.com/c/titanic/ . it has 3 csv file (train, test,gender_submission)\n",
        "#we are going to implemet models on train dataset , and thats how we will train our machine using train dataset , after that we will use test file to predict whether someone will survive or not\n",
        "# the titanic data is used here to predict passanger who will survive . the dataset contains 13 colum where survived is label data and others are feature . based on those feature we will predict which type of passenger will survive\n",
        "# so this is an classification type problem.because they have to predict yes or no ."
      ],
      "execution_count": 2,
      "outputs": []
    },
    {
      "cell_type": "code",
      "metadata": {
        "id": "-2HaDIGWlYV3"
      },
      "source": [
        "#importing libraries \n",
        "import numpy as np \n",
        "import pandas as pd \n",
        "import seaborn as sns \n",
        "import matplotlib.pyplot as plt\n",
        "\n",
        "#those python libraries are used to performing mathematical operation ,data analysis and programmatic plot generations."
      ],
      "execution_count": 2,
      "outputs": []
    },
    {
      "cell_type": "code",
      "metadata": {
        "id": "qYMBopfXl80_"
      },
      "source": [
        "#load the data\n",
        "training = pd.read_csv('/content/train.csv')\n",
        "test = pd.read_csv('/content/test.csv')\\\n",
        "\n",
        "\n"
      ],
      "execution_count": 3,
      "outputs": []
    },
    {
      "cell_type": "markdown",
      "metadata": {
        "id": "4nqH88vj_lSU"
      },
      "source": [
        "data uploaded in google colab repository , after that using the read data python function i have copied the path of train and test data in the \" file name \" .\n"
      ]
    },
    {
      "cell_type": "code",
      "metadata": {
        "id": "2tEfiHmIFMbH"
      },
      "source": [
        "training['train_test'] = 1\n",
        "test['train_test'] = 0\n",
        "test['Survived'] = np.NaN\n",
        "all_data = pd.concat([training,test])\n",
        "\n",
        "\n",
        "\n"
      ],
      "execution_count": 4,
      "outputs": []
    },
    {
      "cell_type": "code",
      "metadata": {
        "id": "vbKHB9cnGdEP",
        "colab": {
          "base_uri": "https://localhost:8080/"
        },
        "outputId": "5ba76091-73cc-4243-95cb-fd29c2a13643"
      },
      "source": [
        "%matplotlib inline\n",
        "all_data.columns"
      ],
      "execution_count": 5,
      "outputs": [
        {
          "output_type": "execute_result",
          "data": {
            "text/plain": [
              "Index(['PassengerId', 'Survived', 'Pclass', 'Name', 'Sex', 'Age', 'SibSp',\n",
              "       'Parch', 'Ticket', 'Fare', 'Cabin', 'Embarked', 'train_test'],\n",
              "      dtype='object')"
            ]
          },
          "metadata": {
            "tags": []
          },
          "execution_count": 5
        }
      ]
    },
    {
      "cell_type": "markdown",
      "metadata": {
        "id": "jGDbd6WHEmoo"
      },
      "source": [
        "STEP 2: Initial Exploration of the data (print data, visualize data). Find number of\n",
        "attributes, number of records in the data. Also find if there is any attribute\n",
        "which has missing data."
      ]
    },
    {
      "cell_type": "code",
      "metadata": {
        "id": "60khPMbUFJCQ",
        "colab": {
          "base_uri": "https://localhost:8080/",
          "height": 913
        },
        "outputId": "edbad367-0065-40df-92db-565986997e3b"
      },
      "source": [
        "# print the fist 10 rows of the data \n",
        "training.head(10)"
      ],
      "execution_count": 6,
      "outputs": [
        {
          "output_type": "execute_result",
          "data": {
            "text/html": [
              "<div>\n",
              "<style scoped>\n",
              "    .dataframe tbody tr th:only-of-type {\n",
              "        vertical-align: middle;\n",
              "    }\n",
              "\n",
              "    .dataframe tbody tr th {\n",
              "        vertical-align: top;\n",
              "    }\n",
              "\n",
              "    .dataframe thead th {\n",
              "        text-align: right;\n",
              "    }\n",
              "</style>\n",
              "<table border=\"1\" class=\"dataframe\">\n",
              "  <thead>\n",
              "    <tr style=\"text-align: right;\">\n",
              "      <th></th>\n",
              "      <th>PassengerId</th>\n",
              "      <th>Survived</th>\n",
              "      <th>Pclass</th>\n",
              "      <th>Name</th>\n",
              "      <th>Sex</th>\n",
              "      <th>Age</th>\n",
              "      <th>SibSp</th>\n",
              "      <th>Parch</th>\n",
              "      <th>Ticket</th>\n",
              "      <th>Fare</th>\n",
              "      <th>Cabin</th>\n",
              "      <th>Embarked</th>\n",
              "      <th>train_test</th>\n",
              "    </tr>\n",
              "  </thead>\n",
              "  <tbody>\n",
              "    <tr>\n",
              "      <th>0</th>\n",
              "      <td>1</td>\n",
              "      <td>0</td>\n",
              "      <td>3</td>\n",
              "      <td>Braund, Mr. Owen Harris</td>\n",
              "      <td>male</td>\n",
              "      <td>22.0</td>\n",
              "      <td>1</td>\n",
              "      <td>0</td>\n",
              "      <td>A/5 21171</td>\n",
              "      <td>7.2500</td>\n",
              "      <td>NaN</td>\n",
              "      <td>S</td>\n",
              "      <td>1</td>\n",
              "    </tr>\n",
              "    <tr>\n",
              "      <th>1</th>\n",
              "      <td>2</td>\n",
              "      <td>1</td>\n",
              "      <td>1</td>\n",
              "      <td>Cumings, Mrs. John Bradley (Florence Briggs Th...</td>\n",
              "      <td>female</td>\n",
              "      <td>38.0</td>\n",
              "      <td>1</td>\n",
              "      <td>0</td>\n",
              "      <td>PC 17599</td>\n",
              "      <td>71.2833</td>\n",
              "      <td>C85</td>\n",
              "      <td>C</td>\n",
              "      <td>1</td>\n",
              "    </tr>\n",
              "    <tr>\n",
              "      <th>2</th>\n",
              "      <td>3</td>\n",
              "      <td>1</td>\n",
              "      <td>3</td>\n",
              "      <td>Heikkinen, Miss. Laina</td>\n",
              "      <td>female</td>\n",
              "      <td>26.0</td>\n",
              "      <td>0</td>\n",
              "      <td>0</td>\n",
              "      <td>STON/O2. 3101282</td>\n",
              "      <td>7.9250</td>\n",
              "      <td>NaN</td>\n",
              "      <td>S</td>\n",
              "      <td>1</td>\n",
              "    </tr>\n",
              "    <tr>\n",
              "      <th>3</th>\n",
              "      <td>4</td>\n",
              "      <td>1</td>\n",
              "      <td>1</td>\n",
              "      <td>Futrelle, Mrs. Jacques Heath (Lily May Peel)</td>\n",
              "      <td>female</td>\n",
              "      <td>35.0</td>\n",
              "      <td>1</td>\n",
              "      <td>0</td>\n",
              "      <td>113803</td>\n",
              "      <td>53.1000</td>\n",
              "      <td>C123</td>\n",
              "      <td>S</td>\n",
              "      <td>1</td>\n",
              "    </tr>\n",
              "    <tr>\n",
              "      <th>4</th>\n",
              "      <td>5</td>\n",
              "      <td>0</td>\n",
              "      <td>3</td>\n",
              "      <td>Allen, Mr. William Henry</td>\n",
              "      <td>male</td>\n",
              "      <td>35.0</td>\n",
              "      <td>0</td>\n",
              "      <td>0</td>\n",
              "      <td>373450</td>\n",
              "      <td>8.0500</td>\n",
              "      <td>NaN</td>\n",
              "      <td>S</td>\n",
              "      <td>1</td>\n",
              "    </tr>\n",
              "    <tr>\n",
              "      <th>5</th>\n",
              "      <td>6</td>\n",
              "      <td>0</td>\n",
              "      <td>3</td>\n",
              "      <td>Moran, Mr. James</td>\n",
              "      <td>male</td>\n",
              "      <td>NaN</td>\n",
              "      <td>0</td>\n",
              "      <td>0</td>\n",
              "      <td>330877</td>\n",
              "      <td>8.4583</td>\n",
              "      <td>NaN</td>\n",
              "      <td>Q</td>\n",
              "      <td>1</td>\n",
              "    </tr>\n",
              "    <tr>\n",
              "      <th>6</th>\n",
              "      <td>7</td>\n",
              "      <td>0</td>\n",
              "      <td>1</td>\n",
              "      <td>McCarthy, Mr. Timothy J</td>\n",
              "      <td>male</td>\n",
              "      <td>54.0</td>\n",
              "      <td>0</td>\n",
              "      <td>0</td>\n",
              "      <td>17463</td>\n",
              "      <td>51.8625</td>\n",
              "      <td>E46</td>\n",
              "      <td>S</td>\n",
              "      <td>1</td>\n",
              "    </tr>\n",
              "    <tr>\n",
              "      <th>7</th>\n",
              "      <td>8</td>\n",
              "      <td>0</td>\n",
              "      <td>3</td>\n",
              "      <td>Palsson, Master. Gosta Leonard</td>\n",
              "      <td>male</td>\n",
              "      <td>2.0</td>\n",
              "      <td>3</td>\n",
              "      <td>1</td>\n",
              "      <td>349909</td>\n",
              "      <td>21.0750</td>\n",
              "      <td>NaN</td>\n",
              "      <td>S</td>\n",
              "      <td>1</td>\n",
              "    </tr>\n",
              "    <tr>\n",
              "      <th>8</th>\n",
              "      <td>9</td>\n",
              "      <td>1</td>\n",
              "      <td>3</td>\n",
              "      <td>Johnson, Mrs. Oscar W (Elisabeth Vilhelmina Berg)</td>\n",
              "      <td>female</td>\n",
              "      <td>27.0</td>\n",
              "      <td>0</td>\n",
              "      <td>2</td>\n",
              "      <td>347742</td>\n",
              "      <td>11.1333</td>\n",
              "      <td>NaN</td>\n",
              "      <td>S</td>\n",
              "      <td>1</td>\n",
              "    </tr>\n",
              "    <tr>\n",
              "      <th>9</th>\n",
              "      <td>10</td>\n",
              "      <td>1</td>\n",
              "      <td>2</td>\n",
              "      <td>Nasser, Mrs. Nicholas (Adele Achem)</td>\n",
              "      <td>female</td>\n",
              "      <td>14.0</td>\n",
              "      <td>1</td>\n",
              "      <td>0</td>\n",
              "      <td>237736</td>\n",
              "      <td>30.0708</td>\n",
              "      <td>NaN</td>\n",
              "      <td>C</td>\n",
              "      <td>1</td>\n",
              "    </tr>\n",
              "  </tbody>\n",
              "</table>\n",
              "</div>"
            ],
            "text/plain": [
              "   PassengerId  Survived  Pclass  ... Cabin Embarked  train_test\n",
              "0            1         0       3  ...   NaN        S           1\n",
              "1            2         1       1  ...   C85        C           1\n",
              "2            3         1       3  ...   NaN        S           1\n",
              "3            4         1       1  ...  C123        S           1\n",
              "4            5         0       3  ...   NaN        S           1\n",
              "5            6         0       3  ...   NaN        Q           1\n",
              "6            7         0       1  ...   E46        S           1\n",
              "7            8         0       3  ...   NaN        S           1\n",
              "8            9         1       3  ...   NaN        S           1\n",
              "9           10         1       2  ...   NaN        C           1\n",
              "\n",
              "[10 rows x 13 columns]"
            ]
          },
          "metadata": {
            "tags": []
          },
          "execution_count": 6
        }
      ]
    },
    {
      "cell_type": "code",
      "metadata": {
        "id": "9Z4sWBnNnM62",
        "colab": {
          "base_uri": "https://localhost:8080/"
        },
        "outputId": "d9e725c4-f433-4af2-a0c7-2570f1bb4f23"
      },
      "source": [
        "#count the no of rows and columns in the dataset \n",
        "training.shape"
      ],
      "execution_count": 7,
      "outputs": [
        {
          "output_type": "execute_result",
          "data": {
            "text/plain": [
              "(891, 13)"
            ]
          },
          "metadata": {
            "tags": []
          },
          "execution_count": 7
        }
      ]
    },
    {
      "cell_type": "markdown",
      "metadata": {
        "id": "ibeuuLyknoOX"
      },
      "source": [
        "So this dataset contains 891 rows which means 891 passengers and their information and 13 columns (features)"
      ]
    },
    {
      "cell_type": "code",
      "metadata": {
        "id": "SzxDqj2Qn66Y",
        "colab": {
          "base_uri": "https://localhost:8080/",
          "height": 294
        },
        "outputId": "d45496b8-c318-485e-d713-ce7104e0b95b"
      },
      "source": [
        "# statistical view of  numerical data column \n",
        "training.describe()"
      ],
      "execution_count": 8,
      "outputs": [
        {
          "output_type": "execute_result",
          "data": {
            "text/html": [
              "<div>\n",
              "<style scoped>\n",
              "    .dataframe tbody tr th:only-of-type {\n",
              "        vertical-align: middle;\n",
              "    }\n",
              "\n",
              "    .dataframe tbody tr th {\n",
              "        vertical-align: top;\n",
              "    }\n",
              "\n",
              "    .dataframe thead th {\n",
              "        text-align: right;\n",
              "    }\n",
              "</style>\n",
              "<table border=\"1\" class=\"dataframe\">\n",
              "  <thead>\n",
              "    <tr style=\"text-align: right;\">\n",
              "      <th></th>\n",
              "      <th>PassengerId</th>\n",
              "      <th>Survived</th>\n",
              "      <th>Pclass</th>\n",
              "      <th>Age</th>\n",
              "      <th>SibSp</th>\n",
              "      <th>Parch</th>\n",
              "      <th>Fare</th>\n",
              "      <th>train_test</th>\n",
              "    </tr>\n",
              "  </thead>\n",
              "  <tbody>\n",
              "    <tr>\n",
              "      <th>count</th>\n",
              "      <td>891.000000</td>\n",
              "      <td>891.000000</td>\n",
              "      <td>891.000000</td>\n",
              "      <td>714.000000</td>\n",
              "      <td>891.000000</td>\n",
              "      <td>891.000000</td>\n",
              "      <td>891.000000</td>\n",
              "      <td>891.0</td>\n",
              "    </tr>\n",
              "    <tr>\n",
              "      <th>mean</th>\n",
              "      <td>446.000000</td>\n",
              "      <td>0.383838</td>\n",
              "      <td>2.308642</td>\n",
              "      <td>29.699118</td>\n",
              "      <td>0.523008</td>\n",
              "      <td>0.381594</td>\n",
              "      <td>32.204208</td>\n",
              "      <td>1.0</td>\n",
              "    </tr>\n",
              "    <tr>\n",
              "      <th>std</th>\n",
              "      <td>257.353842</td>\n",
              "      <td>0.486592</td>\n",
              "      <td>0.836071</td>\n",
              "      <td>14.526497</td>\n",
              "      <td>1.102743</td>\n",
              "      <td>0.806057</td>\n",
              "      <td>49.693429</td>\n",
              "      <td>0.0</td>\n",
              "    </tr>\n",
              "    <tr>\n",
              "      <th>min</th>\n",
              "      <td>1.000000</td>\n",
              "      <td>0.000000</td>\n",
              "      <td>1.000000</td>\n",
              "      <td>0.420000</td>\n",
              "      <td>0.000000</td>\n",
              "      <td>0.000000</td>\n",
              "      <td>0.000000</td>\n",
              "      <td>1.0</td>\n",
              "    </tr>\n",
              "    <tr>\n",
              "      <th>25%</th>\n",
              "      <td>223.500000</td>\n",
              "      <td>0.000000</td>\n",
              "      <td>2.000000</td>\n",
              "      <td>20.125000</td>\n",
              "      <td>0.000000</td>\n",
              "      <td>0.000000</td>\n",
              "      <td>7.910400</td>\n",
              "      <td>1.0</td>\n",
              "    </tr>\n",
              "    <tr>\n",
              "      <th>50%</th>\n",
              "      <td>446.000000</td>\n",
              "      <td>0.000000</td>\n",
              "      <td>3.000000</td>\n",
              "      <td>28.000000</td>\n",
              "      <td>0.000000</td>\n",
              "      <td>0.000000</td>\n",
              "      <td>14.454200</td>\n",
              "      <td>1.0</td>\n",
              "    </tr>\n",
              "    <tr>\n",
              "      <th>75%</th>\n",
              "      <td>668.500000</td>\n",
              "      <td>1.000000</td>\n",
              "      <td>3.000000</td>\n",
              "      <td>38.000000</td>\n",
              "      <td>1.000000</td>\n",
              "      <td>0.000000</td>\n",
              "      <td>31.000000</td>\n",
              "      <td>1.0</td>\n",
              "    </tr>\n",
              "    <tr>\n",
              "      <th>max</th>\n",
              "      <td>891.000000</td>\n",
              "      <td>1.000000</td>\n",
              "      <td>3.000000</td>\n",
              "      <td>80.000000</td>\n",
              "      <td>8.000000</td>\n",
              "      <td>6.000000</td>\n",
              "      <td>512.329200</td>\n",
              "      <td>1.0</td>\n",
              "    </tr>\n",
              "  </tbody>\n",
              "</table>\n",
              "</div>"
            ],
            "text/plain": [
              "       PassengerId    Survived      Pclass  ...       Parch        Fare  train_test\n",
              "count   891.000000  891.000000  891.000000  ...  891.000000  891.000000       891.0\n",
              "mean    446.000000    0.383838    2.308642  ...    0.381594   32.204208         1.0\n",
              "std     257.353842    0.486592    0.836071  ...    0.806057   49.693429         0.0\n",
              "min       1.000000    0.000000    1.000000  ...    0.000000    0.000000         1.0\n",
              "25%     223.500000    0.000000    2.000000  ...    0.000000    7.910400         1.0\n",
              "50%     446.000000    0.000000    3.000000  ...    0.000000   14.454200         1.0\n",
              "75%     668.500000    1.000000    3.000000  ...    0.000000   31.000000         1.0\n",
              "max     891.000000    1.000000    3.000000  ...    6.000000  512.329200         1.0\n",
              "\n",
              "[8 rows x 8 columns]"
            ]
          },
          "metadata": {
            "tags": []
          },
          "execution_count": 8
        }
      ]
    },
    {
      "cell_type": "markdown",
      "metadata": {
        "id": "YyLBqHVBpMeg"
      },
      "source": [
        "Here age column missing few values as it is 714 rather than 891. from this we can observe age feature missed 177 values. the maximum age is 80 , and minimum 0.42 which means child . using the describe function it shows the statistical information of the data . from where we can observe that the higest fare and lowest fare ans do on."
      ]
    },
    {
      "cell_type": "markdown",
      "metadata": {
        "id": "96MiTiL2LrBb"
      },
      "source": [
        "STEP 3: Find correlation of data attributes and target variable (whether survived or\n",
        "not) to explore which attributes have most effects on output (target\n",
        "variable)."
      ]
    },
    {
      "cell_type": "code",
      "metadata": {
        "id": "f8QuYuM-qL3E",
        "colab": {
          "base_uri": "https://localhost:8080/"
        },
        "outputId": "ded038c9-c3f3-440c-cf1e-5318a30eab88"
      },
      "source": [
        "#get a count of the no of survivors \n",
        "training['Survived'].value_counts()"
      ],
      "execution_count": 9,
      "outputs": [
        {
          "output_type": "execute_result",
          "data": {
            "text/plain": [
              "0    549\n",
              "1    342\n",
              "Name: Survived, dtype: int64"
            ]
          },
          "metadata": {
            "tags": []
          },
          "execution_count": 9
        }
      ]
    },
    {
      "cell_type": "markdown",
      "metadata": {
        "id": "SKjBzVP9qj49"
      },
      "source": [
        "0 means not survive and 1 means survived . so total 342 passengers survived , using counts function, it counts the parameter that is given . as the survived parameter has two value , it count how many 1 it contains and how many 0 it contains."
      ]
    },
    {
      "cell_type": "code",
      "metadata": {
        "id": "c6vCSmKtqtep",
        "colab": {
          "base_uri": "https://localhost:8080/",
          "height": 351
        },
        "outputId": "187f6e8a-4193-4445-c45e-ebe593f31c8a"
      },
      "source": [
        "#visualize the count of survivors \n",
        "sns.countplot(training['Survived'])"
      ],
      "execution_count": 10,
      "outputs": [
        {
          "output_type": "stream",
          "text": [
            "/usr/local/lib/python3.6/dist-packages/seaborn/_decorators.py:43: FutureWarning: Pass the following variable as a keyword arg: x. From version 0.12, the only valid positional argument will be `data`, and passing other arguments without an explicit keyword will result in an error or misinterpretation.\n",
            "  FutureWarning\n"
          ],
          "name": "stderr"
        },
        {
          "output_type": "execute_result",
          "data": {
            "text/plain": [
              "<matplotlib.axes._subplots.AxesSubplot at 0x7f51fc641e80>"
            ]
          },
          "metadata": {
            "tags": []
          },
          "execution_count": 10
        },
        {
          "output_type": "display_data",
          "data": {
            "image/png": "[encoded data removed]",
            "text/plain": [
              "<Figure size 432x288 with 1 Axes>"
            ]
          },
          "metadata": {
            "tags": [],
            "needs_background": "light"
          }
        }
      ]
    },
    {
      "cell_type": "markdown",
      "metadata": {
        "id": "VGPDiPGC1T51"
      },
      "source": [
        "countplot plotted the view of how many people survived and not survived , from where we can see that 0 or not survival; rate is high which is above 500 and survival count below 400 ."
      ]
    },
    {
      "cell_type": "code",
      "metadata": {
        "id": "m7Pyzs_srZAg",
        "colab": {
          "base_uri": "https://localhost:8080/",
          "height": 698
        },
        "outputId": "4f4691e0-d49f-4ab4-f33d-f2615b1019e8"
      },
      "source": [
        "#visualize the count of  survivors for column  'passenger','pclass','name','sex','age','sibsp','Parch','ticket','Fare','Cabin','Embarked'.\n",
        "cols=('Sex','Pclass','SibSp','Parch','Embarked','Fare')\n",
        "n_rows=2\n",
        "n_cols=3\n",
        "#the subplot grid and figure size of each plot\n",
        "fig, axs =plt.subplots(n_rows, n_cols , figsize=(n_cols*3.2,n_rows*3.2))\n",
        "\n",
        "for r in range(0,n_rows):\n",
        "  for c in range(0,n_cols):\n",
        "    i=r*n_cols + c #index to go through the number of columns \n",
        "    ax = axs[r][c] #show where to position each sub plot \n",
        "    sns.countplot(training[cols[i]],hue=training['Survived'], ax=ax)\n",
        "    ax.set_title(cols[i])\n",
        "    ax.legend(title='Survived',loc='upper right')\n",
        "    plt.tight_layout()"
      ],
      "execution_count": 11,
      "outputs": [
        {
          "output_type": "stream",
          "text": [
            "/usr/local/lib/python3.6/dist-packages/seaborn/_decorators.py:43: FutureWarning: Pass the following variable as a keyword arg: x. From version 0.12, the only valid positional argument will be `data`, and passing other arguments without an explicit keyword will result in an error or misinterpretation.\n",
            "  FutureWarning\n",
            "/usr/local/lib/python3.6/dist-packages/seaborn/_decorators.py:43: FutureWarning: Pass the following variable as a keyword arg: x. From version 0.12, the only valid positional argument will be `data`, and passing other arguments without an explicit keyword will result in an error or misinterpretation.\n",
            "  FutureWarning\n",
            "/usr/local/lib/python3.6/dist-packages/seaborn/_decorators.py:43: FutureWarning: Pass the following variable as a keyword arg: x. From version 0.12, the only valid positional argument will be `data`, and passing other arguments without an explicit keyword will result in an error or misinterpretation.\n",
            "  FutureWarning\n",
            "/usr/local/lib/python3.6/dist-packages/seaborn/_decorators.py:43: FutureWarning: Pass the following variable as a keyword arg: x. From version 0.12, the only valid positional argument will be `data`, and passing other arguments without an explicit keyword will result in an error or misinterpretation.\n",
            "  FutureWarning\n",
            "/usr/local/lib/python3.6/dist-packages/seaborn/_decorators.py:43: FutureWarning: Pass the following variable as a keyword arg: x. From version 0.12, the only valid positional argument will be `data`, and passing other arguments without an explicit keyword will result in an error or misinterpretation.\n",
            "  FutureWarning\n",
            "/usr/local/lib/python3.6/dist-packages/seaborn/_decorators.py:43: FutureWarning: Pass the following variable as a keyword arg: x. From version 0.12, the only valid positional argument will be `data`, and passing other arguments without an explicit keyword will result in an error or misinterpretation.\n",
            "  FutureWarning\n"
          ],
          "name": "stderr"
        },
        {
          "output_type": "display_data",
          "data": {
            "image/png": "[encoded data removed]",
            "text/plain": [
              "<Figure size 691.2x460.8 with 6 Axes>"
            ]
          },
          "metadata": {
            "tags": [],
            "needs_background": "light"
          }
        }
      ]
    },
    {
      "cell_type": "markdown",
      "metadata": {
        "id": "q8PXP4A79Bp8"
      },
      "source": [
        "here we have build 6 subplots in 2 row .which shows the survival vizualization according to the name of the subplots . from first subplot we can assume that female  have most survival possibility compared to male.then from second subplot we can see that third pclass not survival rate is high wherears first class survival rate is high. assumption of third subplot is having no spouse or sibling results highly not surviving result , on the other hand having at least one sibsp have high survival rate.from embarked plot people from s part have high not surviving rate, and from fare subplot ,people with less fare have high niot surviving rate , and high fare have has high surviving rate . i have chosen the function to show subplots in two row and 3 column  as there is 6 subplots . 3*2=6 "
      ]
    },
    {
      "cell_type": "code",
      "metadata": {
        "id": "d679kAz89ghM",
        "colab": {
          "base_uri": "https://localhost:8080/",
          "height": 141
        },
        "outputId": "43270a7a-bae6-4e4e-aa14-40425f0dc7ce"
      },
      "source": [
        "# lets look at survival rate by sex \n",
        "training.groupby('Sex')[['Survived']].mean()"
      ],
      "execution_count": 12,
      "outputs": [
        {
          "output_type": "execute_result",
          "data": {
            "text/html": [
              "<div>\n",
              "<style scoped>\n",
              "    .dataframe tbody tr th:only-of-type {\n",
              "        vertical-align: middle;\n",
              "    }\n",
              "\n",
              "    .dataframe tbody tr th {\n",
              "        vertical-align: top;\n",
              "    }\n",
              "\n",
              "    .dataframe thead th {\n",
              "        text-align: right;\n",
              "    }\n",
              "</style>\n",
              "<table border=\"1\" class=\"dataframe\">\n",
              "  <thead>\n",
              "    <tr style=\"text-align: right;\">\n",
              "      <th></th>\n",
              "      <th>Survived</th>\n",
              "    </tr>\n",
              "    <tr>\n",
              "      <th>Sex</th>\n",
              "      <th></th>\n",
              "    </tr>\n",
              "  </thead>\n",
              "  <tbody>\n",
              "    <tr>\n",
              "      <th>female</th>\n",
              "      <td>0.742038</td>\n",
              "    </tr>\n",
              "    <tr>\n",
              "      <th>male</th>\n",
              "      <td>0.188908</td>\n",
              "    </tr>\n",
              "  </tbody>\n",
              "</table>\n",
              "</div>"
            ],
            "text/plain": [
              "        Survived\n",
              "Sex             \n",
              "female  0.742038\n",
              "male    0.188908"
            ]
          },
          "metadata": {
            "tags": []
          },
          "execution_count": 12
        }
      ]
    },
    {
      "cell_type": "markdown",
      "metadata": {
        "id": "nenpeHbk5EBW"
      },
      "source": [
        "so, 74 percent women survived which is very high , and 18 percent men survived, using groupby function,it shows the survival rate group by sex .from where we can assume that the female has high survival rate ."
      ]
    },
    {
      "cell_type": "code",
      "metadata": {
        "id": "5tegZp-0-QWt",
        "colab": {
          "base_uri": "https://localhost:8080/",
          "height": 141
        },
        "outputId": "4753da42-e308-4d6b-ea3f-b64941c342af"
      },
      "source": [
        "#lets look at survival rate by sex and class \n",
        "training.pivot_table('Survived',index='Sex', columns='Pclass')"
      ],
      "execution_count": 13,
      "outputs": [
        {
          "output_type": "execute_result",
          "data": {
            "text/html": [
              "<div>\n",
              "<style scoped>\n",
              "    .dataframe tbody tr th:only-of-type {\n",
              "        vertical-align: middle;\n",
              "    }\n",
              "\n",
              "    .dataframe tbody tr th {\n",
              "        vertical-align: top;\n",
              "    }\n",
              "\n",
              "    .dataframe thead th {\n",
              "        text-align: right;\n",
              "    }\n",
              "</style>\n",
              "<table border=\"1\" class=\"dataframe\">\n",
              "  <thead>\n",
              "    <tr style=\"text-align: right;\">\n",
              "      <th>Pclass</th>\n",
              "      <th>1</th>\n",
              "      <th>2</th>\n",
              "      <th>3</th>\n",
              "    </tr>\n",
              "    <tr>\n",
              "      <th>Sex</th>\n",
              "      <th></th>\n",
              "      <th></th>\n",
              "      <th></th>\n",
              "    </tr>\n",
              "  </thead>\n",
              "  <tbody>\n",
              "    <tr>\n",
              "      <th>female</th>\n",
              "      <td>0.968085</td>\n",
              "      <td>0.921053</td>\n",
              "      <td>0.500000</td>\n",
              "    </tr>\n",
              "    <tr>\n",
              "      <th>male</th>\n",
              "      <td>0.368852</td>\n",
              "      <td>0.157407</td>\n",
              "      <td>0.135447</td>\n",
              "    </tr>\n",
              "  </tbody>\n",
              "</table>\n",
              "</div>"
            ],
            "text/plain": [
              "Pclass         1         2         3\n",
              "Sex                                 \n",
              "female  0.968085  0.921053  0.500000\n",
              "male    0.368852  0.157407  0.135447"
            ]
          },
          "metadata": {
            "tags": []
          },
          "execution_count": 13
        }
      ]
    },
    {
      "cell_type": "markdown",
      "metadata": {
        "id": "7z-ZDCT8-vxT"
      },
      "source": [
        "women in 1st class more likely to be survived , men in third class have high chance not to survive.  this function shows survival rate group by sex and pclass . from where we can visialize the survival rate  group by sex and pclass."
      ]
    },
    {
      "cell_type": "code",
      "metadata": {
        "id": "wFJaFVVh-9cP",
        "colab": {
          "base_uri": "https://localhost:8080/",
          "height": 299
        },
        "outputId": "80b0d478-0da8-47b9-a3e6-08b3b4a79ee2"
      },
      "source": [
        "#lets look at survival rate by sex and class visually \n",
        "training.pivot_table('Survived',index='Sex',columns='Pclass').plot()"
      ],
      "execution_count": 14,
      "outputs": [
        {
          "output_type": "execute_result",
          "data": {
            "text/plain": [
              "<matplotlib.axes._subplots.AxesSubplot at 0x7f51f8ab3470>"
            ]
          },
          "metadata": {
            "tags": []
          },
          "execution_count": 14
        },
        {
          "output_type": "display_data",
          "data": {
            "image/png": "[encoded data removed]",
            "text/plain": [
              "<Figure size 432x288 with 1 Axes>"
            ]
          },
          "metadata": {
            "tags": [],
            "needs_background": "light"
          }
        }
      ]
    },
    {
      "cell_type": "markdown",
      "metadata": {
        "id": "254maVri50ms"
      },
      "source": [
        "overall survival rate of first class is high , and last class is low, visual representation of above groupby function"
      ]
    },
    {
      "cell_type": "code",
      "metadata": {
        "id": "Pd4DmiK3A-GT",
        "colab": {
          "base_uri": "https://localhost:8080/",
          "height": 297
        },
        "outputId": "5949412e-acbb-4a74-a199-8cda7909c801"
      },
      "source": [
        "#now plot the survival rate of each class\n",
        "sns.barplot(x='Pclass',y='Survived',data=training )"
      ],
      "execution_count": 15,
      "outputs": [
        {
          "output_type": "execute_result",
          "data": {
            "text/plain": [
              "<matplotlib.axes._subplots.AxesSubplot at 0x7f51f8329400>"
            ]
          },
          "metadata": {
            "tags": []
          },
          "execution_count": 15
        },
        {
          "output_type": "display_data",
          "data": {
            "image/png": "[encoded data removed]",
            "text/plain": [
              "<Figure size 432x288 with 1 Axes>"
            ]
          },
          "metadata": {
            "tags": [],
            "needs_background": "light"
          }
        }
      ]
    },
    {
      "cell_type": "markdown",
      "metadata": {
        "id": "UgfhemoG6HnF"
      },
      "source": [
        "it generates a barplot of survival rate of pclass .from where we can see that 1st class survival rate is very high.so, first class has survival rate of above 60 percent and third class has survival rate of below 30 percent"
      ]
    },
    {
      "cell_type": "code",
      "metadata": {
        "id": "FpWOZfj8HmVV",
        "colab": {
          "base_uri": "https://localhost:8080/",
          "height": 202
        },
        "outputId": "4c9237b8-7d80-4a52-d6ba-6b992bf1a659"
      },
      "source": [
        "#look at survival rate by sex, age and class \n",
        "age=pd.cut(training['Age'],[0,18,80])\n",
        "training.pivot_table( 'Survived',['Sex',age],'Pclass')\n"
      ],
      "execution_count": 16,
      "outputs": [
        {
          "output_type": "execute_result",
          "data": {
            "text/html": [
              "<div>\n",
              "<style scoped>\n",
              "    .dataframe tbody tr th:only-of-type {\n",
              "        vertical-align: middle;\n",
              "    }\n",
              "\n",
              "    .dataframe tbody tr th {\n",
              "        vertical-align: top;\n",
              "    }\n",
              "\n",
              "    .dataframe thead th {\n",
              "        text-align: right;\n",
              "    }\n",
              "</style>\n",
              "<table border=\"1\" class=\"dataframe\">\n",
              "  <thead>\n",
              "    <tr style=\"text-align: right;\">\n",
              "      <th></th>\n",
              "      <th>Pclass</th>\n",
              "      <th>1</th>\n",
              "      <th>2</th>\n",
              "      <th>3</th>\n",
              "    </tr>\n",
              "    <tr>\n",
              "      <th>Sex</th>\n",
              "      <th>Age</th>\n",
              "      <th></th>\n",
              "      <th></th>\n",
              "      <th></th>\n",
              "    </tr>\n",
              "  </thead>\n",
              "  <tbody>\n",
              "    <tr>\n",
              "      <th rowspan=\"2\" valign=\"top\">female</th>\n",
              "      <th>(0, 18]</th>\n",
              "      <td>0.909091</td>\n",
              "      <td>1.000000</td>\n",
              "      <td>0.511628</td>\n",
              "    </tr>\n",
              "    <tr>\n",
              "      <th>(18, 80]</th>\n",
              "      <td>0.972973</td>\n",
              "      <td>0.900000</td>\n",
              "      <td>0.423729</td>\n",
              "    </tr>\n",
              "    <tr>\n",
              "      <th rowspan=\"2\" valign=\"top\">male</th>\n",
              "      <th>(0, 18]</th>\n",
              "      <td>0.800000</td>\n",
              "      <td>0.600000</td>\n",
              "      <td>0.215686</td>\n",
              "    </tr>\n",
              "    <tr>\n",
              "      <th>(18, 80]</th>\n",
              "      <td>0.375000</td>\n",
              "      <td>0.071429</td>\n",
              "      <td>0.133663</td>\n",
              "    </tr>\n",
              "  </tbody>\n",
              "</table>\n",
              "</div>"
            ],
            "text/plain": [
              "Pclass                  1         2         3\n",
              "Sex    Age                                   \n",
              "female (0, 18]   0.909091  1.000000  0.511628\n",
              "       (18, 80]  0.972973  0.900000  0.423729\n",
              "male   (0, 18]   0.800000  0.600000  0.215686\n",
              "       (18, 80]  0.375000  0.071429  0.133663"
            ]
          },
          "metadata": {
            "tags": []
          },
          "execution_count": 16
        }
      ]
    },
    {
      "cell_type": "markdown",
      "metadata": {
        "id": "yNjunhZBJaTT"
      },
      "source": [
        "so, between 18 and 89 first class women has more survival rate.and age of fisrt class male between 0 to 18 has more survival rate ."
      ]
    },
    {
      "cell_type": "code",
      "metadata": {
        "id": "fPIx68_GKeUQ",
        "colab": {
          "base_uri": "https://localhost:8080/",
          "height": 295
        },
        "outputId": "491d8f17-e434-4c18-e1f6-545803ff5073"
      },
      "source": [
        "#plot the prices paid of each class \n",
        "plt.scatter(training['Fare'], training['Pclass'],color='purple',label='passenger paid')\n",
        "plt.ylabel('Pclass')\n",
        "plt.xlabel('price/fare')\n",
        "plt.title('price of each class')\n",
        "plt.legend()\n",
        "plt.show()"
      ],
      "execution_count": 17,
      "outputs": [
        {
          "output_type": "display_data",
          "data": {
            "image/png": "[encoded data removed]",
            "text/plain": [
              "<Figure size 432x288 with 1 Axes>"
            ]
          },
          "metadata": {
            "tags": [],
            "needs_background": "light"
          }
        }
      ]
    },
    {
      "cell_type": "markdown",
      "metadata": {
        "id": "Ysqu4qxF6yx9"
      },
      "source": [
        "orange color dots represents price of each class . where 1st class price is high . so its acts like corresponding changes in those two features."
      ]
    },
    {
      "cell_type": "markdown",
      "metadata": {
        "id": "Br7D5-KvNJIa"
      },
      "source": [
        ""
      ]
    },
    {
      "cell_type": "code",
      "metadata": {
        "id": "yLzu7VnNNMZ6",
        "colab": {
          "base_uri": "https://localhost:8080/"
        },
        "outputId": "49da1801-1cdc-498c-9755-a1057f2fa175"
      },
      "source": [
        "#count the empty values in each column\n",
        "training.isna().sum()"
      ],
      "execution_count": 18,
      "outputs": [
        {
          "output_type": "execute_result",
          "data": {
            "text/plain": [
              "PassengerId      0\n",
              "Survived         0\n",
              "Pclass           0\n",
              "Name             0\n",
              "Sex              0\n",
              "Age            177\n",
              "SibSp            0\n",
              "Parch            0\n",
              "Ticket           0\n",
              "Fare             0\n",
              "Cabin          687\n",
              "Embarked         2\n",
              "train_test       0\n",
              "dtype: int64"
            ]
          },
          "metadata": {
            "tags": []
          },
          "execution_count": 18
        }
      ]
    },
    {
      "cell_type": "markdown",
      "metadata": {
        "id": "XFDVn2noNreM"
      },
      "source": [
        "age column is missing 177 values, embarked is missing 2 , cabin is missing 687 and train_test missing 2 values . isna() function calculates the sum of null values of each features."
      ]
    },
    {
      "cell_type": "code",
      "metadata": {
        "id": "tGx-4ttON7aE",
        "colab": {
          "base_uri": "https://localhost:8080/"
        },
        "outputId": "41c6373a-d6b4-4937-d7bf-feb6f2624d14"
      },
      "source": [
        "#look at all of the values in each column and get a count \n",
        "for val in training:\n",
        "  print(training[val].value_counts())\n",
        "  print()\n"
      ],
      "execution_count": 19,
      "outputs": [
        {
          "output_type": "stream",
          "text": [
            "891    1\n",
            "293    1\n",
            "304    1\n",
            "303    1\n",
            "302    1\n",
            "      ..\n",
            "591    1\n",
            "590    1\n",
            "589    1\n",
            "588    1\n",
            "1      1\n",
            "Name: PassengerId, Length: 891, dtype: int64\n",
            "\n",
            "0    549\n",
            "1    342\n",
            "Name: Survived, dtype: int64\n",
            "\n",
            "3    491\n",
            "1    216\n",
            "2    184\n",
            "Name: Pclass, dtype: int64\n",
            "\n",
            "Baclini, Miss. Helene Barbara       1\n",
            "Bowen, Mr. David John \"Dai\"         1\n",
            "Rood, Mr. Hugh Roscoe               1\n",
            "Cribb, Mr. John Hatfield            1\n",
            "Morley, Mr. William                 1\n",
            "                                   ..\n",
            "Jussila, Mr. Eiriik                 1\n",
            "Caram, Mrs. Joseph (Maria Elias)    1\n",
            "Asim, Mr. Adola                     1\n",
            "McCormack, Mr. Thomas Joseph        1\n",
            "Weir, Col. John                     1\n",
            "Name: Name, Length: 891, dtype: int64\n",
            "\n",
            "male      577\n",
            "female    314\n",
            "Name: Sex, dtype: int64\n",
            "\n",
            "24.00    30\n",
            "22.00    27\n",
            "18.00    26\n",
            "19.00    25\n",
            "30.00    25\n",
            "         ..\n",
            "55.50     1\n",
            "70.50     1\n",
            "66.00     1\n",
            "23.50     1\n",
            "0.42      1\n",
            "Name: Age, Length: 88, dtype: int64\n",
            "\n",
            "0    608\n",
            "1    209\n",
            "2     28\n",
            "4     18\n",
            "3     16\n",
            "8      7\n",
            "5      5\n",
            "Name: SibSp, dtype: int64\n",
            "\n",
            "0    678\n",
            "1    118\n",
            "2     80\n",
            "5      5\n",
            "3      5\n",
            "4      4\n",
            "6      1\n",
            "Name: Parch, dtype: int64\n",
            "\n",
            "347082       7\n",
            "1601         7\n",
            "CA. 2343     7\n",
            "CA 2144      6\n",
            "3101295      6\n",
            "            ..\n",
            "A/5 21174    1\n",
            "324669       1\n",
            "349218       1\n",
            "244270       1\n",
            "7540         1\n",
            "Name: Ticket, Length: 681, dtype: int64\n",
            "\n",
            "8.0500     43\n",
            "13.0000    42\n",
            "7.8958     38\n",
            "7.7500     34\n",
            "26.0000    31\n",
            "           ..\n",
            "8.4583      1\n",
            "9.8375      1\n",
            "8.3625      1\n",
            "14.1083     1\n",
            "17.4000     1\n",
            "Name: Fare, Length: 248, dtype: int64\n",
            "\n",
            "G6             4\n",
            "B96 B98        4\n",
            "C23 C25 C27    4\n",
            "D              3\n",
            "F33            3\n",
            "              ..\n",
            "D50            1\n",
            "A32            1\n",
            "E40            1\n",
            "A31            1\n",
            "B80            1\n",
            "Name: Cabin, Length: 147, dtype: int64\n",
            "\n",
            "S    644\n",
            "C    168\n",
            "Q     77\n",
            "Name: Embarked, dtype: int64\n",
            "\n",
            "1    891\n",
            "Name: train_test, dtype: int64\n",
            "\n"
          ],
          "name": "stdout"
        }
      ]
    },
    {
      "cell_type": "markdown",
      "metadata": {
        "id": "tf63L6a97n5e"
      },
      "source": [
        "this fuction used here to see if one features has exactly same tuples or not .if  similiar features occur then we need to drop one feature as its a redundant value and there is no effect on the prediction performance rather it increases the computation time ."
      ]
    },
    {
      "cell_type": "code",
      "metadata": {
        "id": "yX4_QeTLP25d",
        "colab": {
          "base_uri": "https://localhost:8080/"
        },
        "outputId": "3017622e-9b02-4ef1-ef6b-f36a0a782b97"
      },
      "source": [
        " corr_matrix = training.corr()\n",
        "corr_matrix[\"Survived\"].sort_values(ascending=False)\n"
      ],
      "execution_count": 20,
      "outputs": [
        {
          "output_type": "execute_result",
          "data": {
            "text/plain": [
              "Survived       1.000000\n",
              "Fare           0.257307\n",
              "Parch          0.081629\n",
              "PassengerId   -0.005007\n",
              "SibSp         -0.035322\n",
              "Age           -0.077221\n",
              "Pclass        -0.338481\n",
              "train_test          NaN\n",
              "Name: Survived, dtype: float64"
            ]
          },
          "metadata": {
            "tags": []
          },
          "execution_count": 20
        }
      ]
    },
    {
      "cell_type": "markdown",
      "metadata": {
        "id": "TjxrLGhX8Fgx"
      },
      "source": [
        "correlation to see  a feature has how much negative or positive effect on the prediction performance . but if the value is 0.00000 then it does not have any effect on the prediction performnace . if the value is 0.012 means slightly changes could happen , so we will include this too . but passengerId has -0.005007 value which means very slight or no effect , so we will  not include this feature."
      ]
    },
    {
      "cell_type": "code",
      "metadata": {
        "id": "IpA37D6qRW0Q"
      },
      "source": [
        "#drop redundant columns\n",
        "training = training.drop(['PassengerId', 'Name','Cabin','Ticket',], axis=1)\n",
        "#remove the rows with missing values \n",
        "training = training.dropna( subset = ['Embarked']) \n",
        "median = training[\"Age\"].median() \n",
        "training[\"Age\"].fillna(median, inplace=True)\n",
        "\n"
      ],
      "execution_count": 21,
      "outputs": []
    },
    {
      "cell_type": "markdown",
      "metadata": {
        "id": "L6U_GATN893N"
      },
      "source": [
        "using drop function ihave dropped the column passengerid , name, cabin, ticket . where passengerid and name and ticket dont have any positive impact on prediction rather it lowers the accuracy percentage . cabin contains a lot of null vale so its better to drop this column. using dropna function we have droped the null rows of embarked , as it contains categorical value , we cant repplace the null value with median bvalue . in the age column we have replaced the null values with median value of age .thats how i have preprocessed my data . "
      ]
    },
    {
      "cell_type": "code",
      "metadata": {
        "id": "qz4JLHrsTI5R",
        "colab": {
          "base_uri": "https://localhost:8080/"
        },
        "outputId": "e026e9e3-44e6-4caf-c8da-201649ff1b8a"
      },
      "source": [
        "#count the new no of rows and columns in the dataset\n",
        "training.shape"
      ],
      "execution_count": 22,
      "outputs": [
        {
          "output_type": "execute_result",
          "data": {
            "text/plain": [
              "(889, 9)"
            ]
          },
          "metadata": {
            "tags": []
          },
          "execution_count": 22
        }
      ]
    },
    {
      "cell_type": "markdown",
      "metadata": {
        "id": "FkbL_6KV_DWv"
      },
      "source": [
        "after dropping 4 coloumns it becomes 9 column which was before 13. and dropping 2 rows it becomes 889 which was before 891."
      ]
    },
    {
      "cell_type": "code",
      "metadata": {
        "id": "fVIei2zTZdkV",
        "colab": {
          "base_uri": "https://localhost:8080/"
        },
        "outputId": "090d42e8-3db3-4979-b3bc-0879863d5503"
      },
      "source": [
        "#count the empty values in each column\n",
        "training.isna().sum()"
      ],
      "execution_count": 23,
      "outputs": [
        {
          "output_type": "execute_result",
          "data": {
            "text/plain": [
              "Survived      0\n",
              "Pclass        0\n",
              "Sex           0\n",
              "Age           0\n",
              "SibSp         0\n",
              "Parch         0\n",
              "Fare          0\n",
              "Embarked      0\n",
              "train_test    0\n",
              "dtype: int64"
            ]
          },
          "metadata": {
            "tags": []
          },
          "execution_count": 23
        }
      ]
    },
    {
      "cell_type": "markdown",
      "metadata": {
        "id": "kvhgi6ym-IKb"
      },
      "source": [
        "now there is no null value in those 9 columns."
      ]
    },
    {
      "cell_type": "code",
      "metadata": {
        "id": "AWdYVh3GTz7-",
        "colab": {
          "base_uri": "https://localhost:8080/"
        },
        "outputId": "6fc43a10-555f-434c-e093-063d8cdf737f"
      },
      "source": [
        "#look at the datatypes\n",
        "training.dtypes"
      ],
      "execution_count": 24,
      "outputs": [
        {
          "output_type": "execute_result",
          "data": {
            "text/plain": [
              "Survived        int64\n",
              "Pclass          int64\n",
              "Sex            object\n",
              "Age           float64\n",
              "SibSp           int64\n",
              "Parch           int64\n",
              "Fare          float64\n",
              "Embarked       object\n",
              "train_test      int64\n",
              "dtype: object"
            ]
          },
          "metadata": {
            "tags": []
          },
          "execution_count": 24
        }
      ]
    },
    {
      "cell_type": "markdown",
      "metadata": {
        "id": "Pg15mJagUS_m"
      },
      "source": [
        "we can  see that all columns have number values except embarkedand sex column. lets convert it to no values"
      ]
    },
    {
      "cell_type": "code",
      "metadata": {
        "id": "5KfnVBbgXkyr",
        "colab": {
          "base_uri": "https://localhost:8080/"
        },
        "outputId": "bb0b9cfa-6c52-45c7-c51a-c9f899318cab"
      },
      "source": [
        "#print the unique values in the columns\n",
        "\n",
        "print(training['Embarked'].unique())\n",
        "\n",
        "print(training['Sex'].unique())\n"
      ],
      "execution_count": 25,
      "outputs": [
        {
          "output_type": "stream",
          "text": [
            "['S' 'C' 'Q']\n",
            "['male' 'female']\n"
          ],
          "name": "stdout"
        }
      ]
    },
    {
      "cell_type": "code",
      "metadata": {
        "id": "6irT_LmLUbJT"
      },
      "source": [
        "from sklearn.preprocessing import LabelEncoder\n",
        "labelencoder=LabelEncoder()\n",
        "\n",
        "#encode the embarked column\n",
        "training.iloc[:, 7] = labelencoder.fit_transform( training.iloc[:, 7].values )\n",
        "#encode the sex column\n",
        "training.iloc[:, 2] = labelencoder.fit_transform( training.iloc[:, 2].values )\n",
        "\n",
        "\n"
      ],
      "execution_count": 26,
      "outputs": []
    },
    {
      "cell_type": "markdown",
      "metadata": {
        "id": "uR9siLXN_jAr"
      },
      "source": [
        "this function converts the string or object value to numericcal value ."
      ]
    },
    {
      "cell_type": "code",
      "metadata": {
        "id": "piNramIsgA1Q",
        "colab": {
          "base_uri": "https://localhost:8080/"
        },
        "outputId": "76ae3a8c-6229-4d79-e7f0-713398407f9c"
      },
      "source": [
        "#print the unique values in the columns\n",
        "\n",
        "print(training['Embarked'].unique())\n",
        "print(training['Sex'].unique())\n",
        "\n"
      ],
      "execution_count": 27,
      "outputs": [
        {
          "output_type": "stream",
          "text": [
            "[2 0 1]\n",
            "[1 0]\n"
          ],
          "name": "stdout"
        }
      ]
    },
    {
      "cell_type": "markdown",
      "metadata": {
        "id": "z6okyXoy_x8Y"
      },
      "source": [
        "converted into numerical value . embarked has [2,0,1], means it had 3 different type of categirical value , which converted to [0,1,2]. sex column had female and male , which converted to [1,0]"
      ]
    },
    {
      "cell_type": "code",
      "metadata": {
        "id": "M4tf_eOpgWMe",
        "colab": {
          "base_uri": "https://localhost:8080/"
        },
        "outputId": "5cf111ae-bea4-439c-fb10-573651cf7d4b"
      },
      "source": [
        "training.dtypes"
      ],
      "execution_count": 28,
      "outputs": [
        {
          "output_type": "execute_result",
          "data": {
            "text/plain": [
              "Survived        int64\n",
              "Pclass          int64\n",
              "Sex             int64\n",
              "Age           float64\n",
              "SibSp           int64\n",
              "Parch           int64\n",
              "Fare          float64\n",
              "Embarked        int64\n",
              "train_test      int64\n",
              "dtype: object"
            ]
          },
          "metadata": {
            "tags": []
          },
          "execution_count": 28
        }
      ]
    },
    {
      "cell_type": "code",
      "metadata": {
        "id": "oyFQFLF4QQW9"
      },
      "source": [
        "#all are numerical value ."
      ],
      "execution_count": null,
      "outputs": []
    },
    {
      "cell_type": "markdown",
      "metadata": {
        "id": "mIrmrsEjQF6n"
      },
      "source": [
        ""
      ]
    },
    {
      "cell_type": "markdown",
      "metadata": {
        "id": "nJWmev3PpRVW"
      },
      "source": [
        "STEP 5: Select your classification model (try at least three model to find best one)\n",
        "\n",
        "**selected 7 classificationmodel "
      ]
    },
    {
      "cell_type": "code",
      "metadata": {
        "id": "gs2yqo1YgkqR"
      },
      "source": [
        "#split the data into independent 'X' and dependent 'Y' variables\n",
        "X=training.iloc[:,1:8].values #here 1:8 means column 2 to column 9\n",
        "Y=training.iloc[:,0].values # here 0 means the index of survived which we want to predict"
      ],
      "execution_count": 29,
      "outputs": []
    },
    {
      "cell_type": "markdown",
      "metadata": {
        "id": "i71Tbllyp55B"
      },
      "source": [
        "Survived column is the dependent or label of the dataset , rest of the colums are features which is independent variable . based on those features we will predict survived or not "
      ]
    },
    {
      "cell_type": "markdown",
      "metadata": {
        "id": "Bpi4WtmTpPnQ"
      },
      "source": [
        ""
      ]
    },
    {
      "cell_type": "code",
      "metadata": {
        "id": "18XMcQMJiblC"
      },
      "source": [
        "#split the dataset into 80% training and 20% testing \n",
        "from sklearn.model_selection import train_test_split \n",
        "X_train, X_test, Y_train, Y_test = train_test_split(X,Y,test_size=0.2,random_state=1)"
      ],
      "execution_count": 30,
      "outputs": []
    },
    {
      "cell_type": "markdown",
      "metadata": {
        "id": "i39VJSUyrUUQ"
      },
      "source": [
        ""
      ]
    },
    {
      "cell_type": "markdown",
      "metadata": {
        "id": "PDI6SERqrJSD"
      },
      "source": [
        ""
      ]
    },
    {
      "cell_type": "markdown",
      "metadata": {
        "id": "I76PiDi9r0Ua"
      },
      "source": [
        "STEP 6 :Perform cross validation of training data in all cases and run test data to\n",
        "decide which model is best.\n",
        "here i have shown all classification with cross validation "
      ]
    },
    {
      "cell_type": "code",
      "metadata": {
        "id": "Je5xciySsA1I",
        "colab": {
          "base_uri": "https://localhost:8080/"
        },
        "outputId": "8de5e33b-95d0-4dae-d8a6-aa07ddd9c43c"
      },
      "source": [
        "#create a function with many machine learning models along with cross validation\n",
        "\n",
        "#using logistic regression\n",
        "from sklearn.model_selection import cross_val_score\n",
        "from sklearn.linear_model import LogisticRegression\n",
        "\n",
        "lr = LogisticRegression(max_iter = 2000)\n",
        "cv = cross_val_score(lr,X_train,Y_train,cv=5)\n",
        "print(cv)\n",
        "print(cv.mean())\n",
        "      \n",
        "    \n",
        "    \n",
        "    #use KNeighbours\n",
        "from sklearn.neighbors import KNeighborsClassifier \n",
        "\n",
        "knn = KNeighborsClassifier()\n",
        "cv = cross_val_score(knn,X_train,Y_train,cv=5)\n",
        "print(cv)\n",
        "print(cv.mean())\n",
        "\n",
        "    #use svc (linear kernel)\n",
        "from sklearn.svm import SVC\n",
        "\n",
        "svc = SVC(probability = True)\n",
        "cv = cross_val_score(svc,X_train,Y_train,cv=5)\n",
        "print(cv)\n",
        "print(cv.mean())\n",
        "     \n",
        "\n",
        "     \n",
        "     #use gaussianNB\n",
        "from sklearn.naive_bayes import GaussianNB\n",
        "\n",
        "gnb = GaussianNB()\n",
        "cv = cross_val_score(gnb,X_train,Y_train,cv=5)\n",
        "print(cv)\n",
        "print(cv.mean())\n",
        "\n",
        "\n",
        "     #use decision tree \n",
        "from sklearn.tree import DecisionTreeClassifier\n",
        "\n",
        "dt = DecisionTreeClassifier(random_state = 1)\n",
        "cv = cross_val_score(dt,X_train,Y_train,cv=5)\n",
        "print(cv)\n",
        "print(cv.mean())\n",
        "\n",
        "\n",
        "     #use the RandomForestClassifier\n",
        "from sklearn.ensemble import RandomForestClassifier\n",
        "\n",
        "rf = RandomForestClassifier(random_state = 1)\n",
        "cv = cross_val_score(rf,X_train,Y_train,cv=5)\n",
        "print(cv)\n",
        "print(cv.mean())\n",
        "\n",
        "# use XGBClassifier\n",
        "from xgboost import XGBClassifier\n",
        "xgb = XGBClassifier(random_state =1)\n",
        "cv = cross_val_score(xgb,X_train,Y_train,cv=5)\n",
        "print(cv)\n",
        "print(cv.mean())\n",
        "\n",
        "\n",
        " "
      ],
      "execution_count": 31,
      "outputs": [
        {
          "output_type": "stream",
          "text": [
            "[0.81818182 0.78169014 0.79577465 0.75352113 0.79577465]\n",
            "0.78898847631242\n",
            "[0.6993007  0.6971831  0.66197183 0.71830986 0.69014085]\n",
            "0.6933812666207032\n",
            "[0.69230769 0.64788732 0.67605634 0.65492958 0.68309859]\n",
            "0.6708559046587217\n",
            "[0.79020979 0.75352113 0.78873239 0.77464789 0.8028169 ]\n",
            "0.781985620013789\n",
            "[0.74125874 0.73239437 0.78873239 0.78873239 0.80985915]\n",
            "0.7721954102235792\n",
            "[0.82517483 0.78169014 0.79577465 0.78169014 0.8028169 ]\n",
            "0.7974293312321482\n",
            "[0.85314685 0.75352113 0.83098592 0.78169014 0.80985915]\n",
            "0.8058406382350045\n"
          ],
          "name": "stdout"
        }
      ]
    },
    {
      "cell_type": "markdown",
      "metadata": {
        "id": "p7yimEXjsiEK"
      },
      "source": [
        "as it is an classification problem . we have used 7 classification model and also perform cross validation in all models. from the cross validation score we can see that XGBClassifier performs best , the accuracy is 0.805."
      ]
    },
    {
      "cell_type": "markdown",
      "metadata": {
        "id": "ExkHmC4YscQV"
      },
      "source": [
        ""
      ]
    },
    {
      "cell_type": "code",
      "metadata": {
        "id": "ORUg1q-pu1rm"
      },
      "source": [
        "from sklearn.ensemble import VotingClassifier\n",
        "voting_clf = VotingClassifier(estimators = [('lr',lr),('knn',knn),('rf',rf),('gnb',gnb),('svc',svc),('xgb',xgb)], voting = 'soft') "
      ],
      "execution_count": 32,
      "outputs": []
    },
    {
      "cell_type": "markdown",
      "metadata": {
        "id": "yWiqkjZCtdJW"
      },
      "source": [
        "Voting classifier takes all of the inputs and averages the results, so that we can get to know the average result of all the models ."
      ]
    },
    {
      "cell_type": "code",
      "metadata": {
        "id": "Fz9UxKH23XWV",
        "colab": {
          "base_uri": "https://localhost:8080/"
        },
        "outputId": "abbbe107-6a63-4f2a-8235-e98a497b2434"
      },
      "source": [
        "cv = cross_val_score(voting_clf,X_train,Y_train,cv=5)\n",
        "print(cv)\n",
        "print(cv.mean())"
      ],
      "execution_count": 33,
      "outputs": [
        {
          "output_type": "stream",
          "text": [
            "[0.85314685 0.78169014 0.81690141 0.8028169  0.8028169 ]\n",
            "0.8114744410519059\n"
          ],
          "name": "stdout"
        }
      ]
    },
    {
      "cell_type": "markdown",
      "metadata": {
        "id": "NQJmntcotrxi"
      },
      "source": [
        "here is the average result which is 0.81288"
      ]
    },
    {
      "cell_type": "markdown",
      "metadata": {
        "id": "78mXVX-9t75d"
      },
      "source": [
        "STEP 6:Try techniques like Grid Search etc. mentioned in the chapter 2 of textbook\n",
        "(TB2) to further fine tune your model. Examine whether fine tuning improve\n",
        "your prediction performance"
      ]
    },
    {
      "cell_type": "code",
      "metadata": {
        "id": "FKwNgAmiy7Je"
      },
      "source": [
        "#Grid search technique for fine tuning the model \n",
        "from sklearn.model_selection import GridSearchCV "
      ],
      "execution_count": 34,
      "outputs": []
    },
    {
      "cell_type": "markdown",
      "metadata": {
        "id": "6rqht-xOuOsH"
      },
      "source": [
        "gridsearch is used for fine tuning of model that used in the dataset . gridsearch model improves the prediction performance ."
      ]
    },
    {
      "cell_type": "code",
      "metadata": {
        "id": "Isn6-qLi9RPP"
      },
      "source": [
        "#simple performance reporting function\n",
        "def clf_performance(classifier, model_name):\n",
        "    print(model_name)\n",
        "    print('Best Score: ' + str(classifier.best_score_))\n",
        "    print('Best Parameters: ' + str(classifier.best_params_))"
      ],
      "execution_count": 35,
      "outputs": []
    },
    {
      "cell_type": "code",
      "metadata": {
        "id": "0jzz1Ifb1ATV",
        "colab": {
          "base_uri": "https://localhost:8080/"
        },
        "outputId": "2ccb375a-4df7-4702-9e0d-3e00656631c7"
      },
      "source": [
        "#gridsearch on logistic regression model\n",
        "\n",
        "lr = LogisticRegression()\n",
        "param_grid = {'max_iter' : [2000],\n",
        "              'penalty' : ['l1', 'l2'],\n",
        "              'C' : np.logspace(-4, 4, 20),\n",
        "              'solver' : ['liblinear']}\n",
        "\n",
        "clf_lr = GridSearchCV(lr, param_grid = param_grid, cv = 5, verbose = True, n_jobs = -1)\n",
        "best_clf_lr = clf_lr.fit(X_train,Y_train)\n",
        "clf_performance(best_clf_lr,'Logistic Regression')"
      ],
      "execution_count": 36,
      "outputs": [
        {
          "output_type": "stream",
          "text": [
            "Fitting 5 folds for each of 40 candidates, totalling 200 fits\n"
          ],
          "name": "stdout"
        },
        {
          "output_type": "stream",
          "text": [
            "[Parallel(n_jobs=-1)]: Using backend LokyBackend with 2 concurrent workers.\n"
          ],
          "name": "stderr"
        },
        {
          "output_type": "stream",
          "text": [
            "Logistic Regression\n",
            "Best Score: 0.7890081749236679\n",
            "Best Parameters: {'C': 4.281332398719396, 'max_iter': 2000, 'penalty': 'l2', 'solver': 'liblinear'}\n"
          ],
          "name": "stdout"
        },
        {
          "output_type": "stream",
          "text": [
            "[Parallel(n_jobs=-1)]: Done 200 out of 200 | elapsed:    1.3s finished\n"
          ],
          "name": "stderr"
        }
      ]
    },
    {
      "cell_type": "markdown",
      "metadata": {
        "id": "BwB7sSqrT7GN"
      },
      "source": [
        "performance did not improve . it remains same as before"
      ]
    },
    {
      "cell_type": "code",
      "metadata": {
        "id": "gHXJ0JSRSejV",
        "colab": {
          "base_uri": "https://localhost:8080/"
        },
        "outputId": "86e38295-c1ae-4640-98dc-ba77632e5663"
      },
      "source": [
        "#gridsearch on KneighborsClassifier\n",
        "knn = KNeighborsClassifier()\n",
        "param_grid = {'n_neighbors' : [3,5,7,9],\n",
        "              'weights' : ['uniform', 'distance'],\n",
        "              'algorithm' : ['auto', 'ball_tree','kd_tree'],\n",
        "              'p' : [1,2]}\n",
        "clf_knn = GridSearchCV(knn, param_grid = param_grid, cv = 5, verbose = True, n_jobs = -1)\n",
        "best_clf_knn = clf_knn.fit(X_train,Y_train)\n",
        "clf_performance(best_clf_knn,'KNN')"
      ],
      "execution_count": 38,
      "outputs": [
        {
          "output_type": "stream",
          "text": [
            "Fitting 5 folds for each of 48 candidates, totalling 240 fits\n"
          ],
          "name": "stdout"
        },
        {
          "output_type": "stream",
          "text": [
            "[Parallel(n_jobs=-1)]: Using backend LokyBackend with 2 concurrent workers.\n"
          ],
          "name": "stderr"
        },
        {
          "output_type": "stream",
          "text": [
            "KNN\n",
            "Best Score: 0.7384516891559144\n",
            "Best Parameters: {'algorithm': 'ball_tree', 'n_neighbors': 3, 'p': 1, 'weights': 'uniform'}\n"
          ],
          "name": "stdout"
        },
        {
          "output_type": "stream",
          "text": [
            "[Parallel(n_jobs=-1)]: Done 240 out of 240 | elapsed:    0.8s finished\n"
          ],
          "name": "stderr"
        }
      ]
    },
    {
      "cell_type": "markdown",
      "metadata": {
        "id": "3WOrjoDiSqj0"
      },
      "source": [
        "performance changes signifcantly , previous score is 0.693 after performing gridsearch it becomes 0.738, so improved"
      ]
    },
    {
      "cell_type": "code",
      "metadata": {
        "id": "PQeBIKBp96MT",
        "colab": {
          "base_uri": "https://localhost:8080/"
        },
        "outputId": "a856b3c4-305a-4bb4-f345-9d53ac2b0216"
      },
      "source": [
        "#gridsearch on SVC\n",
        "svc = SVC(probability = True)\n",
        "param_grid = tuned_parameters = [{'kernel': ['rbf'], 'gamma': [.1,.5,1,2,5,10],\n",
        "                                  'C': [.1, 1, 10, 100, 1000]},\n",
        "                                 {'kernel': ['linear'], 'C': [.1, 1, 10, 100, 1000]},\n",
        "                                 {'kernel': ['poly'], 'degree' : [2,3,4,5], 'C': [.1, 1, 10, 100, 1000]}]\n",
        "clf_svc = GridSearchCV(svc, param_grid = param_grid, cv = 5, verbose = True, n_jobs = -1)\n",
        "best_clf_svc = clf_svc.fit(X_train,Y_train)\n",
        "clf_performance(best_clf_svc,'SVC')"
      ],
      "execution_count": 39,
      "outputs": [
        {
          "output_type": "stream",
          "text": [
            "Fitting 5 folds for each of 55 candidates, totalling 275 fits\n"
          ],
          "name": "stdout"
        },
        {
          "output_type": "stream",
          "text": [
            "[Parallel(n_jobs=-1)]: Using backend LokyBackend with 2 concurrent workers.\n",
            "[Parallel(n_jobs=-1)]: Done  88 tasks      | elapsed:    4.6s\n",
            "[Parallel(n_jobs=-1)]: Done 275 out of 275 | elapsed: 55.5min finished\n"
          ],
          "name": "stderr"
        },
        {
          "output_type": "stream",
          "text": [
            "SVC\n",
            "Best Score: 0.8030631340490496\n",
            "Best Parameters: {'C': 1000, 'degree': 2, 'kernel': 'poly'}\n"
          ],
          "name": "stdout"
        }
      ]
    },
    {
      "cell_type": "markdown",
      "metadata": {
        "id": "qQANRAS2yEND"
      },
      "source": [
        "gridsearch of svc gives 0.80 percent score which was before 0.67 percent , so it makes large difference "
      ]
    },
    {
      "cell_type": "code",
      "metadata": {
        "id": "IIHBo-pk_CzE",
        "colab": {
          "base_uri": "https://localhost:8080/"
        },
        "outputId": "22b998d8-327c-4292-968c-a3c7194441c3"
      },
      "source": [
        "#gridsearch on randomforest classifier\n",
        "rf = RandomForestClassifier(random_state = 1)\n",
        "param_grid =  {'n_estimators': [400,450,500,550],\n",
        "               'criterion':['gini','entropy'],\n",
        "                                  'bootstrap': [True],\n",
        "                                  'max_depth': [15, 20, 25],\n",
        "                                  'max_features': ['auto','sqrt', 10],\n",
        "                                  'min_samples_leaf': [2,3],\n",
        "                                  'min_samples_split': [2,3]}\n",
        "                                  \n",
        "clf_rf = GridSearchCV(rf, param_grid = param_grid, cv = 5, verbose = True, n_jobs = -1)\n",
        "best_clf_rf = clf_rf.fit(X_train,Y_train)\n",
        "clf_performance(best_clf_rf,'Random Forest')"
      ],
      "execution_count": 40,
      "outputs": [
        {
          "output_type": "stream",
          "text": [
            "Fitting 5 folds for each of 288 candidates, totalling 1440 fits\n"
          ],
          "name": "stdout"
        },
        {
          "output_type": "stream",
          "text": [
            "[Parallel(n_jobs=-1)]: Using backend LokyBackend with 2 concurrent workers.\n",
            "[Parallel(n_jobs=-1)]: Done  46 tasks      | elapsed:   24.5s\n",
            "[Parallel(n_jobs=-1)]: Done 196 tasks      | elapsed:  1.5min\n",
            "[Parallel(n_jobs=-1)]: Done 446 tasks      | elapsed:  3.1min\n",
            "[Parallel(n_jobs=-1)]: Done 796 tasks      | elapsed:  5.5min\n",
            "[Parallel(n_jobs=-1)]: Done 1246 tasks      | elapsed:  8.6min\n",
            "[Parallel(n_jobs=-1)]: Done 1440 out of 1440 | elapsed:  9.9min finished\n"
          ],
          "name": "stderr"
        },
        {
          "output_type": "stream",
          "text": [
            "Random Forest\n",
            "Best Score: 0.8283561508913622\n",
            "Best Parameters: {'bootstrap': True, 'criterion': 'gini', 'max_depth': 15, 'max_features': 'auto', 'min_samples_leaf': 3, 'min_samples_split': 2, 'n_estimators': 550}\n"
          ],
          "name": "stdout"
        }
      ]
    },
    {
      "cell_type": "markdown",
      "metadata": {
        "id": "-QoP675cyc61"
      },
      "source": [
        " the score was before 0.79 , now it is 0.82 which also makes huge difference in the performance "
      ]
    },
    {
      "cell_type": "code",
      "metadata": {
        "id": "wYlvWhgG_K5d",
        "colab": {
          "base_uri": "https://localhost:8080/"
        },
        "outputId": "e90b6c94-0955-4242-bdac-e49edfbe6c40"
      },
      "source": [
        "# gridsearch on XGBClassifier\n",
        "xgb = XGBClassifier(random_state = 1)\n",
        "\n",
        "param_grid = {\n",
        "    'n_estimators': [450,500,550],\n",
        "    'colsample_bytree': [0.75,0.8,0.85],\n",
        "    'max_depth': [6],\n",
        "    'reg_alpha': [1],\n",
        "    'reg_lambda': [2, 5, 10],\n",
        "    'subsample': [0.55, 0.6, .65],\n",
        "    'learning_rate':[0.5],\n",
        "    'gamma':[.5,1,2],\n",
        "    'min_child_weight':[0.01],\n",
        "    'sampling_method': ['uniform']\n",
        "}\n",
        "\n",
        "clf_xgb = GridSearchCV(xgb, param_grid = param_grid, cv = 5, verbose = True, n_jobs = -1)\n",
        "best_clf_xgb = clf_xgb.fit(X_train,Y_train)\n",
        "clf_performance(best_clf_xgb,'XGB')"
      ],
      "execution_count": 41,
      "outputs": [
        {
          "output_type": "stream",
          "text": [
            "Fitting 5 folds for each of 243 candidates, totalling 1215 fits\n"
          ],
          "name": "stdout"
        },
        {
          "output_type": "stream",
          "text": [
            "[Parallel(n_jobs=-1)]: Using backend LokyBackend with 2 concurrent workers.\n",
            "[Parallel(n_jobs=-1)]: Done  46 tasks      | elapsed:    9.3s\n",
            "[Parallel(n_jobs=-1)]: Done 196 tasks      | elapsed:   40.7s\n",
            "[Parallel(n_jobs=-1)]: Done 446 tasks      | elapsed:  1.6min\n",
            "[Parallel(n_jobs=-1)]: Done 796 tasks      | elapsed:  2.8min\n",
            "[Parallel(n_jobs=-1)]: Done 1215 out of 1215 | elapsed:  4.3min finished\n"
          ],
          "name": "stderr"
        },
        {
          "output_type": "stream",
          "text": [
            "XGB\n",
            "Best Score: 0.8255490987885356\n",
            "Best Parameters: {'colsample_bytree': 0.75, 'gamma': 2, 'learning_rate': 0.5, 'max_depth': 6, 'min_child_weight': 0.01, 'n_estimators': 450, 'reg_alpha': 1, 'reg_lambda': 5, 'sampling_method': 'uniform', 'subsample': 0.55}\n"
          ],
          "name": "stdout"
        }
      ]
    },
    {
      "cell_type": "markdown",
      "metadata": {
        "id": "_srew-Lgg8xo"
      },
      "source": [
        "So here is also best score is Same like before, it is 0.82. So The grid Search techniques fine tune my model.So fine tuning improve my prediction performance.\r\n"
      ]
    },
    {
      "cell_type": "code",
      "metadata": {
        "id": "naobCnsCB4xG"
      },
      "source": [
        ""
      ],
      "execution_count": null,
      "outputs": []
    },
    {
      "cell_type": "code",
      "metadata": {
        "id": "3Cz0-_6U-IFb"
      },
      "source": [
        ""
      ],
      "execution_count": null,
      "outputs": []
    }
  ]
}